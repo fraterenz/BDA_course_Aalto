{
 "cells": [
  {
   "cell_type": "code",
   "execution_count": 1,
   "metadata": {},
   "outputs": [],
   "source": [
    "library(\"markmyassignment\")\n",
    "library(ggplot2)"
   ]
  },
  {
   "cell_type": "markdown",
   "metadata": {},
   "source": [
    "# 2A"
   ]
  },
  {
   "cell_type": "code",
   "execution_count": 2,
   "metadata": {},
   "outputs": [
    {
     "name": "stdout",
     "output_type": "stream",
     "text": [
      "[1] 3\n",
      "[1] 12\n"
     ]
    }
   ],
   "source": [
    "mu <- .2\n",
    "var <- .01 \n",
    "alpha <- mu * (mu * (1 - mu)/ var - 1)\n",
    "beta <- alpha * (1 - mu) / mu\n",
    "print(alpha)\n",
    "print(beta)"
   ]
  },
  {
   "cell_type": "code",
   "execution_count": 3,
   "metadata": {},
   "outputs": [],
   "source": [
    "x <- seq(0, 1, length = 1000)\n",
    "y <- dbeta(x=x, shape1=alpha, shape2=beta)\n",
    "mydf <- data.frame(x, y)"
   ]
  },
  {
   "cell_type": "code",
   "execution_count": 4,
   "metadata": {
    "scrolled": true
   },
   "outputs": [
    {
     "data": {
      "text/html": [
       "<table>\n",
       "<caption>A data.frame: 1000 × 2</caption>\n",
       "<thead>\n",
       "\t<tr><th scope=col>x</th><th scope=col>y</th></tr>\n",
       "\t<tr><th scope=col>&lt;dbl&gt;</th><th scope=col>&lt;dbl&gt;</th></tr>\n",
       "</thead>\n",
       "<tbody>\n",
       "\t<tr><td>0.000000000</td><td>0.000000000</td></tr>\n",
       "\t<tr><td>0.001001001</td><td>0.001082199</td></tr>\n",
       "\t<tr><td>0.002002002</td><td>0.004281323</td></tr>\n",
       "\t<tr><td>0.003003003</td><td>0.009527227</td></tr>\n",
       "\t<tr><td>0.004004004</td><td>0.016751171</td></tr>\n",
       "\t<tr><td>0.005005005</td><td>0.025885796</td></tr>\n",
       "\t<tr><td>0.006006006</td><td>0.036865109</td></tr>\n",
       "\t<tr><td>0.007007007</td><td>0.049624457</td></tr>\n",
       "\t<tr><td>0.008008008</td><td>0.064100507</td></tr>\n",
       "\t<tr><td>0.009009009</td><td>0.080231230</td></tr>\n",
       "\t<tr><td>0.010010010</td><td>0.097955877</td></tr>\n",
       "\t<tr><td>0.011011011</td><td>0.117214962</td></tr>\n",
       "\t<tr><td>0.012012012</td><td>0.137950241</td></tr>\n",
       "\t<tr><td>0.013013013</td><td>0.160104692</td></tr>\n",
       "\t<tr><td>0.014014014</td><td>0.183622501</td></tr>\n",
       "\t<tr><td>0.015015015</td><td>0.208449037</td></tr>\n",
       "\t<tr><td>0.016016016</td><td>0.234530837</td></tr>\n",
       "\t<tr><td>0.017017017</td><td>0.261815588</td></tr>\n",
       "\t<tr><td>0.018018018</td><td>0.290252108</td></tr>\n",
       "\t<tr><td>0.019019019</td><td>0.319790329</td></tr>\n",
       "\t<tr><td>0.020020020</td><td>0.350381278</td></tr>\n",
       "\t<tr><td>0.021021021</td><td>0.381977062</td></tr>\n",
       "\t<tr><td>0.022022022</td><td>0.414530847</td></tr>\n",
       "\t<tr><td>0.023023023</td><td>0.447996847</td></tr>\n",
       "\t<tr><td>0.024024024</td><td>0.482330303</td></tr>\n",
       "\t<tr><td>0.025025025</td><td>0.517487465</td></tr>\n",
       "\t<tr><td>0.026026026</td><td>0.553425582</td></tr>\n",
       "\t<tr><td>0.027027027</td><td>0.590102880</td></tr>\n",
       "\t<tr><td>0.028028028</td><td>0.627478548</td></tr>\n",
       "\t<tr><td>0.029029029</td><td>0.665512725</td></tr>\n",
       "\t<tr><td>⋮</td><td>⋮</td></tr>\n",
       "\t<tr><td>0.970971</td><td>1.269968e-14</td></tr>\n",
       "\t<tr><td>0.971972</td><td>8.650637e-15</td></tr>\n",
       "\t<tr><td>0.972973</td><td>5.810389e-15</td></tr>\n",
       "\t<tr><td>0.973974</td><td>3.844181e-15</td></tr>\n",
       "\t<tr><td>0.974975</td><td>2.502242e-15</td></tr>\n",
       "\t<tr><td>0.975976</td><td>1.600310e-15</td></tr>\n",
       "\t<tr><td>0.976977</td><td>1.004100e-15</td></tr>\n",
       "\t<tr><td>0.977978</td><td>6.170352e-16</td></tr>\n",
       "\t<tr><td>0.978979</td><td>3.706476e-16</td></tr>\n",
       "\t<tr><td>0.979980</td><td>2.171534e-16</td></tr>\n",
       "\t<tr><td>0.980981</td><td>1.237693e-16</td></tr>\n",
       "\t<tr><td>0.981982</td><td>6.842375e-17</td></tr>\n",
       "\t<tr><td>0.982983</td><td>3.656221e-17</td></tr>\n",
       "\t<tr><td>0.983984</td><td>1.880607e-17</td></tr>\n",
       "\t<tr><td>0.984985</td><td>9.265425e-18</td></tr>\n",
       "\t<tr><td>0.985986</td><td>4.346625e-18</td></tr>\n",
       "\t<tr><td>0.986987</td><td>1.927534e-18</td></tr>\n",
       "\t<tr><td>0.987988</td><td>8.007543e-19</td></tr>\n",
       "\t<tr><td>0.988989</td><td>3.081092e-19</td></tr>\n",
       "\t<tr><td>0.989990</td><td>1.082091e-19</td></tr>\n",
       "\t<tr><td>0.990991</td><td>3.402587e-20</td></tr>\n",
       "\t<tr><td>0.991992</td><td>9.332725e-21</td></tr>\n",
       "\t<tr><td>0.992993</td><td>2.152648e-21</td></tr>\n",
       "\t<tr><td>0.993994</td><td>3.957615e-22</td></tr>\n",
       "\t<tr><td>0.994995</td><td>5.337208e-23</td></tr>\n",
       "\t<tr><td>0.995996</td><td>4.593856e-24</td></tr>\n",
       "\t<tr><td>0.996997</td><td>1.944123e-25</td></tr>\n",
       "\t<tr><td>0.997998</td><td>2.252120e-27</td></tr>\n",
       "\t<tr><td>0.998999</td><td>1.101875e-30</td></tr>\n",
       "\t<tr><td>1.000000</td><td>0.000000e+00</td></tr>\n",
       "</tbody>\n",
       "</table>\n"
      ],
      "text/latex": [
       "A data.frame: 1000 × 2\n",
       "\\begin{tabular}{ll}\n",
       " x & y\\\\\n",
       " <dbl> & <dbl>\\\\\n",
       "\\hline\n",
       "\t 0.000000000 & 0.000000000\\\\\n",
       "\t 0.001001001 & 0.001082199\\\\\n",
       "\t 0.002002002 & 0.004281323\\\\\n",
       "\t 0.003003003 & 0.009527227\\\\\n",
       "\t 0.004004004 & 0.016751171\\\\\n",
       "\t 0.005005005 & 0.025885796\\\\\n",
       "\t 0.006006006 & 0.036865109\\\\\n",
       "\t 0.007007007 & 0.049624457\\\\\n",
       "\t 0.008008008 & 0.064100507\\\\\n",
       "\t 0.009009009 & 0.080231230\\\\\n",
       "\t 0.010010010 & 0.097955877\\\\\n",
       "\t 0.011011011 & 0.117214962\\\\\n",
       "\t 0.012012012 & 0.137950241\\\\\n",
       "\t 0.013013013 & 0.160104692\\\\\n",
       "\t 0.014014014 & 0.183622501\\\\\n",
       "\t 0.015015015 & 0.208449037\\\\\n",
       "\t 0.016016016 & 0.234530837\\\\\n",
       "\t 0.017017017 & 0.261815588\\\\\n",
       "\t 0.018018018 & 0.290252108\\\\\n",
       "\t 0.019019019 & 0.319790329\\\\\n",
       "\t 0.020020020 & 0.350381278\\\\\n",
       "\t 0.021021021 & 0.381977062\\\\\n",
       "\t 0.022022022 & 0.414530847\\\\\n",
       "\t 0.023023023 & 0.447996847\\\\\n",
       "\t 0.024024024 & 0.482330303\\\\\n",
       "\t 0.025025025 & 0.517487465\\\\\n",
       "\t 0.026026026 & 0.553425582\\\\\n",
       "\t 0.027027027 & 0.590102880\\\\\n",
       "\t 0.028028028 & 0.627478548\\\\\n",
       "\t 0.029029029 & 0.665512725\\\\\n",
       "\t ⋮ & ⋮\\\\\n",
       "\t 0.970971 & 1.269968e-14\\\\\n",
       "\t 0.971972 & 8.650637e-15\\\\\n",
       "\t 0.972973 & 5.810389e-15\\\\\n",
       "\t 0.973974 & 3.844181e-15\\\\\n",
       "\t 0.974975 & 2.502242e-15\\\\\n",
       "\t 0.975976 & 1.600310e-15\\\\\n",
       "\t 0.976977 & 1.004100e-15\\\\\n",
       "\t 0.977978 & 6.170352e-16\\\\\n",
       "\t 0.978979 & 3.706476e-16\\\\\n",
       "\t 0.979980 & 2.171534e-16\\\\\n",
       "\t 0.980981 & 1.237693e-16\\\\\n",
       "\t 0.981982 & 6.842375e-17\\\\\n",
       "\t 0.982983 & 3.656221e-17\\\\\n",
       "\t 0.983984 & 1.880607e-17\\\\\n",
       "\t 0.984985 & 9.265425e-18\\\\\n",
       "\t 0.985986 & 4.346625e-18\\\\\n",
       "\t 0.986987 & 1.927534e-18\\\\\n",
       "\t 0.987988 & 8.007543e-19\\\\\n",
       "\t 0.988989 & 3.081092e-19\\\\\n",
       "\t 0.989990 & 1.082091e-19\\\\\n",
       "\t 0.990991 & 3.402587e-20\\\\\n",
       "\t 0.991992 & 9.332725e-21\\\\\n",
       "\t 0.992993 & 2.152648e-21\\\\\n",
       "\t 0.993994 & 3.957615e-22\\\\\n",
       "\t 0.994995 & 5.337208e-23\\\\\n",
       "\t 0.995996 & 4.593856e-24\\\\\n",
       "\t 0.996997 & 1.944123e-25\\\\\n",
       "\t 0.997998 & 2.252120e-27\\\\\n",
       "\t 0.998999 & 1.101875e-30\\\\\n",
       "\t 1.000000 & 0.000000e+00\\\\\n",
       "\\end{tabular}\n"
      ],
      "text/markdown": [
       "\n",
       "A data.frame: 1000 × 2\n",
       "\n",
       "| x &lt;dbl&gt; | y &lt;dbl&gt; |\n",
       "|---|---|\n",
       "| 0.000000000 | 0.000000000 |\n",
       "| 0.001001001 | 0.001082199 |\n",
       "| 0.002002002 | 0.004281323 |\n",
       "| 0.003003003 | 0.009527227 |\n",
       "| 0.004004004 | 0.016751171 |\n",
       "| 0.005005005 | 0.025885796 |\n",
       "| 0.006006006 | 0.036865109 |\n",
       "| 0.007007007 | 0.049624457 |\n",
       "| 0.008008008 | 0.064100507 |\n",
       "| 0.009009009 | 0.080231230 |\n",
       "| 0.010010010 | 0.097955877 |\n",
       "| 0.011011011 | 0.117214962 |\n",
       "| 0.012012012 | 0.137950241 |\n",
       "| 0.013013013 | 0.160104692 |\n",
       "| 0.014014014 | 0.183622501 |\n",
       "| 0.015015015 | 0.208449037 |\n",
       "| 0.016016016 | 0.234530837 |\n",
       "| 0.017017017 | 0.261815588 |\n",
       "| 0.018018018 | 0.290252108 |\n",
       "| 0.019019019 | 0.319790329 |\n",
       "| 0.020020020 | 0.350381278 |\n",
       "| 0.021021021 | 0.381977062 |\n",
       "| 0.022022022 | 0.414530847 |\n",
       "| 0.023023023 | 0.447996847 |\n",
       "| 0.024024024 | 0.482330303 |\n",
       "| 0.025025025 | 0.517487465 |\n",
       "| 0.026026026 | 0.553425582 |\n",
       "| 0.027027027 | 0.590102880 |\n",
       "| 0.028028028 | 0.627478548 |\n",
       "| 0.029029029 | 0.665512725 |\n",
       "| ⋮ | ⋮ |\n",
       "| 0.970971 | 1.269968e-14 |\n",
       "| 0.971972 | 8.650637e-15 |\n",
       "| 0.972973 | 5.810389e-15 |\n",
       "| 0.973974 | 3.844181e-15 |\n",
       "| 0.974975 | 2.502242e-15 |\n",
       "| 0.975976 | 1.600310e-15 |\n",
       "| 0.976977 | 1.004100e-15 |\n",
       "| 0.977978 | 6.170352e-16 |\n",
       "| 0.978979 | 3.706476e-16 |\n",
       "| 0.979980 | 2.171534e-16 |\n",
       "| 0.980981 | 1.237693e-16 |\n",
       "| 0.981982 | 6.842375e-17 |\n",
       "| 0.982983 | 3.656221e-17 |\n",
       "| 0.983984 | 1.880607e-17 |\n",
       "| 0.984985 | 9.265425e-18 |\n",
       "| 0.985986 | 4.346625e-18 |\n",
       "| 0.986987 | 1.927534e-18 |\n",
       "| 0.987988 | 8.007543e-19 |\n",
       "| 0.988989 | 3.081092e-19 |\n",
       "| 0.989990 | 1.082091e-19 |\n",
       "| 0.990991 | 3.402587e-20 |\n",
       "| 0.991992 | 9.332725e-21 |\n",
       "| 0.992993 | 2.152648e-21 |\n",
       "| 0.993994 | 3.957615e-22 |\n",
       "| 0.994995 | 5.337208e-23 |\n",
       "| 0.995996 | 4.593856e-24 |\n",
       "| 0.996997 | 1.944123e-25 |\n",
       "| 0.997998 | 2.252120e-27 |\n",
       "| 0.998999 | 1.101875e-30 |\n",
       "| 1.000000 | 0.000000e+00 |\n",
       "\n"
      ],
      "text/plain": [
       "     x           y           \n",
       "1    0.000000000 0.000000000 \n",
       "2    0.001001001 0.001082199 \n",
       "3    0.002002002 0.004281323 \n",
       "4    0.003003003 0.009527227 \n",
       "5    0.004004004 0.016751171 \n",
       "6    0.005005005 0.025885796 \n",
       "7    0.006006006 0.036865109 \n",
       "8    0.007007007 0.049624457 \n",
       "9    0.008008008 0.064100507 \n",
       "10   0.009009009 0.080231230 \n",
       "11   0.010010010 0.097955877 \n",
       "12   0.011011011 0.117214962 \n",
       "13   0.012012012 0.137950241 \n",
       "14   0.013013013 0.160104692 \n",
       "15   0.014014014 0.183622501 \n",
       "16   0.015015015 0.208449037 \n",
       "17   0.016016016 0.234530837 \n",
       "18   0.017017017 0.261815588 \n",
       "19   0.018018018 0.290252108 \n",
       "20   0.019019019 0.319790329 \n",
       "21   0.020020020 0.350381278 \n",
       "22   0.021021021 0.381977062 \n",
       "23   0.022022022 0.414530847 \n",
       "24   0.023023023 0.447996847 \n",
       "25   0.024024024 0.482330303 \n",
       "26   0.025025025 0.517487465 \n",
       "27   0.026026026 0.553425582 \n",
       "28   0.027027027 0.590102880 \n",
       "29   0.028028028 0.627478548 \n",
       "30   0.029029029 0.665512725 \n",
       "⋮    ⋮           ⋮           \n",
       "971  0.970971    1.269968e-14\n",
       "972  0.971972    8.650637e-15\n",
       "973  0.972973    5.810389e-15\n",
       "974  0.973974    3.844181e-15\n",
       "975  0.974975    2.502242e-15\n",
       "976  0.975976    1.600310e-15\n",
       "977  0.976977    1.004100e-15\n",
       "978  0.977978    6.170352e-16\n",
       "979  0.978979    3.706476e-16\n",
       "980  0.979980    2.171534e-16\n",
       "981  0.980981    1.237693e-16\n",
       "982  0.981982    6.842375e-17\n",
       "983  0.982983    3.656221e-17\n",
       "984  0.983984    1.880607e-17\n",
       "985  0.984985    9.265425e-18\n",
       "986  0.985986    4.346625e-18\n",
       "987  0.986987    1.927534e-18\n",
       "988  0.987988    8.007543e-19\n",
       "989  0.988989    3.081092e-19\n",
       "990  0.989990    1.082091e-19\n",
       "991  0.990991    3.402587e-20\n",
       "992  0.991992    9.332725e-21\n",
       "993  0.992993    2.152648e-21\n",
       "994  0.993994    3.957615e-22\n",
       "995  0.994995    5.337208e-23\n",
       "996  0.995996    4.593856e-24\n",
       "997  0.996997    1.944123e-25\n",
       "998  0.997998    2.252120e-27\n",
       "999  0.998999    1.101875e-30\n",
       "1000 1.000000    0.000000e+00"
      ]
     },
     "metadata": {},
     "output_type": "display_data"
    }
   ],
   "source": [
    "mydf"
   ]
  },
  {
   "cell_type": "code",
   "execution_count": 5,
   "metadata": {},
   "outputs": [
    {
     "data": {
      "image/png": "[encoded data removed]",
      "text/plain": [
       "plot without title"
      ]
     },
     "metadata": {
      "image/png": {
       "height": 420,
       "width": 420
      }
     },
     "output_type": "display_data"
    }
   ],
   "source": [
    "ggplot(data = mydf) + geom_point(mapping = aes(x, y))"
   ]
  },
  {
   "cell_type": "markdown",
   "metadata": {},
   "source": [
    "# 2B"
   ]
  },
  {
   "cell_type": "code",
   "execution_count": 6,
   "metadata": {},
   "outputs": [],
   "source": [
    "xsample <- rbeta(n=1000, shape1=alpha, shape2=beta)"
   ]
  },
  {
   "cell_type": "code",
   "execution_count": 7,
   "metadata": {},
   "outputs": [
    {
     "data": {
      "image/png": "[encoded data removed]",
      "text/plain": [
       "plot without title"
      ]
     },
     "metadata": {
      "image/png": {
       "height": 420,
       "width": 420
      }
     },
     "output_type": "display_data"
    }
   ],
   "source": [
    "ggplot(data = data.frame(xsample)) + geom_histogram(mapping = aes(xsample), bins = 40)"
   ]
  },
  {
   "cell_type": "markdown",
   "metadata": {},
   "source": [
    "# 2C"
   ]
  },
  {
   "cell_type": "code",
   "execution_count": 8,
   "metadata": {},
   "outputs": [
    {
     "data": {
      "text/html": [
       "0.201044002228985"
      ],
      "text/latex": [
       "0.201044002228985"
      ],
      "text/markdown": [
       "0.201044002228985"
      ],
      "text/plain": [
       "[1] 0.201044"
      ]
     },
     "metadata": {},
     "output_type": "display_data"
    }
   ],
   "source": [
    "mean(xsample)"
   ]
  },
  {
   "cell_type": "code",
   "execution_count": 9,
   "metadata": {},
   "outputs": [
    {
     "data": {
      "text/html": [
       "0.2"
      ],
      "text/latex": [
       "0.2"
      ],
      "text/markdown": [
       "0.2"
      ],
      "text/plain": [
       "[1] 0.2"
      ]
     },
     "metadata": {},
     "output_type": "display_data"
    }
   ],
   "source": [
    "mu"
   ]
  },
  {
   "cell_type": "code",
   "execution_count": 10,
   "metadata": {},
   "outputs": [
    {
     "data": {
      "text/html": [
       "0.00976613757969085"
      ],
      "text/latex": [
       "0.00976613757969085"
      ],
      "text/markdown": [
       "0.00976613757969085"
      ],
      "text/plain": [
       "[1] 0.009766138"
      ]
     },
     "metadata": {},
     "output_type": "display_data"
    }
   ],
   "source": [
    "var(xsample)"
   ]
  },
  {
   "cell_type": "code",
   "execution_count": 11,
   "metadata": {},
   "outputs": [
    {
     "data": {
      "text/html": [
       "0.01"
      ],
      "text/latex": [
       "0.01"
      ],
      "text/markdown": [
       "0.01"
      ],
      "text/plain": [
       "[1] 0.01"
      ]
     },
     "metadata": {},
     "output_type": "display_data"
    }
   ],
   "source": [
    "var"
   ]
  },
  {
   "cell_type": "markdown",
   "metadata": {},
   "source": [
    "# 2D"
   ]
  },
  {
   "cell_type": "code",
   "execution_count": 12,
   "metadata": {},
   "outputs": [
    {
     "data": {
      "text/html": [
       "<style>\n",
       ".dl-inline {width: auto; margin:0; padding: 0}\n",
       ".dl-inline>dt, .dl-inline>dd {float: none; width: auto; display: inline-block}\n",
       ".dl-inline>dt::after {content: \":\\0020\"; padding-right: .5ex}\n",
       ".dl-inline>dt:not(:first-of-type) {padding-left: .5ex}\n",
       "</style><dl class=dl-inline><dt>5%</dt><dd>0.0603381769523955</dd><dt>95%</dt><dd>0.37930945541509</dd></dl>\n"
      ],
      "text/latex": [
       "\\begin{description*}\n",
       "\\item[5\\textbackslash{}\\%] 0.0603381769523955\n",
       "\\item[95\\textbackslash{}\\%] 0.37930945541509\n",
       "\\end{description*}\n"
      ],
      "text/markdown": [
       "5%\n",
       ":   0.060338176952395595%\n",
       ":   0.37930945541509\n",
       "\n"
      ],
      "text/plain": [
       "        5%        95% \n",
       "0.06033818 0.37930946 "
      ]
     },
     "metadata": {},
     "output_type": "display_data"
    }
   ],
   "source": [
    "quantile(x=xsample, probs=c(.05, 0.95))"
   ]
  },
  {
   "cell_type": "code",
   "execution_count": 13,
   "metadata": {},
   "outputs": [
    {
     "data": {
      "image/png": "[encoded data removed]",
      "text/plain": [
       "plot without title"
      ]
     },
     "metadata": {
      "image/png": {
       "height": 420,
       "width": 420
      }
     },
     "output_type": "display_data"
    }
   ],
   "source": [
    "ggplot(data = data.frame(xsample)) + \n",
    "geom_histogram(mapping = aes(xsample), bins = 40) + \n",
    "geom_vline(xintercept=quantile(x=xsample, probs=c(.05))) + \n",
    "geom_vline(xintercept=quantile(x=xsample, probs=c(.95)))"
   ]
  }
 ],
 "metadata": {
  "kernelspec": {
   "display_name": "R 4.0",
   "language": "R",
   "name": "ir40"
  },
  "language_info": {
   "codemirror_mode": "r",
   "file_extension": ".r",
   "mimetype": "text/x-r-source",
   "name": "R",
   "pygments_lexer": "r",
   "version": "4.0.2"
  }
 },
 "nbformat": 4,
 "nbformat_minor": 4
}
